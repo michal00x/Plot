{
  "nbformat": 4,
  "nbformat_minor": 0,
  "metadata": {
    "colab": {
      "name": "relplot.ipynb",
      "provenance": [],
      "collapsed_sections": [],
      "authorship_tag": "ABX9TyObF7rpJmcdP+7bfXQZoXCF",
      "include_colab_link": true
    },
    "kernelspec": {
      "name": "python3",
      "display_name": "Python 3"
    }
  },
  "cells": [
    {
      "cell_type": "markdown",
      "metadata": {
        "id": "view-in-github",
        "colab_type": "text"
      },
      "source": [
        "<a href=\"https://colab.research.google.com/github/michal00x/Plot/blob/main/relplot.ipynb\" target=\"_parent\"><img src=\"https://colab.research.google.com/assets/colab-badge.svg\" alt=\"Open In Colab\"/></a>"
      ]
    },
    {
      "cell_type": "code",
      "metadata": {
        "id": "7Knoo7hJBt-A"
      },
      "source": [
        "import pandas as pd\n",
        "import seaborn as sns\n",
        "import numpy as np\n",
        "import matplotlib.pyplot as plt\n",
        "\n",
        "'''\n",
        "x = np.linspace(0,20,100)\n",
        "y = np.random.randn(100,4)\n",
        "y = np.cumsum(y, axis=0)\n",
        "plt.plot(x,y)\n",
        "'''\n",
        "\n",
        "df=sns.load_dataset('tips')\n",
        "'''\n",
        "df.info()\n",
        "df.describe(include=['category'])\n",
        "'''\n",
        "\n",
        "sns.set(palette='pastel')\n",
        "sns.relplot(data=df,x='total_bill', y='tip', size='sex',hue='size', sizes=(10,200),style='size',\n",
        "            palette='viridis',col='time',row='smoker')"
      ],
      "execution_count": null,
      "outputs": []
    },
    {
      "cell_type": "code",
      "metadata": {
        "id": "K5i236eEhVuN"
      },
      "source": [
        "df=sns.load_dataset('fmri')\r\n",
        "df.head(2)\r\n",
        "df.info()\r\n"
      ],
      "execution_count": null,
      "outputs": []
    },
    {
      "cell_type": "code",
      "metadata": {
        "id": "XUKcqmsniSYN"
      },
      "source": [
        "sns.relplot(data=df, x='timepoint',y='signal')\r\n"
      ],
      "execution_count": null,
      "outputs": []
    }
  ]
}