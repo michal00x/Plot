{
  "nbformat": 4,
  "nbformat_minor": 0,
  "metadata": {
    "colab": {
      "name": "relplot.ipynb",
      "provenance": [],
      "collapsed_sections": [],
      "authorship_tag": "ABX9TyO9H5pWPsjchRNJMAhDNtzm",
      "include_colab_link": true
    },
    "kernelspec": {
      "name": "python3",
      "display_name": "Python 3"
    }
  },
  "cells": [
    {
      "cell_type": "markdown",
      "metadata": {
        "id": "view-in-github",
        "colab_type": "text"
      },
      "source": [
        "<a href=\"https://colab.research.google.com/github/michal00x/Plot/blob/main/relplot.ipynb\" target=\"_parent\"><img src=\"https://colab.research.google.com/assets/colab-badge.svg\" alt=\"Open In Colab\"/></a>"
      ]
    },
    {
      "cell_type": "code",
      "metadata": {
        "id": "7Knoo7hJBt-A"
      },
      "source": [
        "import pandas as pd\n",
        "import seaborn as sns\n",
        "import numpy as np\n",
        "import matplotlib.pyplot as plt\n",
        "\n",
        "'''\n",
        "x = np.linspace(0,20,100)\n",
        "y = np.random.randn(100,4)\n",
        "y = np.cumsum(y, axis=0)\n",
        "plt.plot(x,y)\n",
        "'''\n",
        "\n",
        "df=sns.load_dataset('tips')\n",
        "'''\n",
        "df.info()\n",
        "df.describe(include=['category'])\n",
        "'''\n",
        "\n",
        "sns.set(palette='pastel')\n",
        "sns.relplot(data=df,x='total_bill', y='tip', size='sex',hue='size', sizes=(10,200),style='size',\n",
        "            palette='viridis',col='time',row='smoker')"
      ],
      "execution_count": null,
      "outputs": []
    },
    {
      "cell_type": "code",
      "metadata": {
        "colab": {
          "base_uri": "https://localhost:8080/"
        },
        "id": "K5i236eEhVuN",
        "outputId": "2cca7a2b-3fbb-4dc7-9928-334a7b06aa59"
      },
      "source": [
        "df=sns.load_dataset('fmri')\r\n",
        "df.head(2)\r\n",
        "df.info()\r\n"
      ],
      "execution_count": 3,
      "outputs": [
        {
          "output_type": "stream",
          "text": [
            "<class 'pandas.core.frame.DataFrame'>\n",
            "RangeIndex: 1064 entries, 0 to 1063\n",
            "Data columns (total 5 columns):\n",
            " #   Column     Non-Null Count  Dtype  \n",
            "---  ------     --------------  -----  \n",
            " 0   subject    1064 non-null   object \n",
            " 1   timepoint  1064 non-null   int64  \n",
            " 2   event      1064 non-null   object \n",
            " 3   region     1064 non-null   object \n",
            " 4   signal     1064 non-null   float64\n",
            "dtypes: float64(1), int64(1), object(3)\n",
            "memory usage: 41.7+ KB\n"
          ],
          "name": "stdout"
        }
      ]
    },
    {
      "cell_type": "code",
      "metadata": {
        "id": "XUKcqmsniSYN"
      },
      "source": [
        "sns.relplot(data=df, x='timepoint',y='signal',hue='event',kind='line',ci=None, style='event',markers=True)\r\n"
      ],
      "execution_count": null,
      "outputs": []
    },
    {
      "cell_type": "code",
      "metadata": {
        "id": "aggNNXIvjV0K"
      },
      "source": [
        "df=np.random.multivariate_normal(mean=[0,1],cov=[{1,-0,4},{-0,4,1}])\r\n",
        "\r\n",
        "sns.set(style='darkgrid')\r\n",
        "sns.jointplot(data=)"
      ],
      "execution_count": null,
      "outputs": []
    }
  ]
}